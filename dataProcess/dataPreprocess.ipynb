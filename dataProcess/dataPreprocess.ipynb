{
 "cells": [
  {
   "cell_type": "code",
   "execution_count": 2,
   "outputs": [],
   "source": [
    "import pandas as pd\n",
    "import networkx as nx\n",
    "import numpy as np\n",
    "import torch"
   ],
   "metadata": {
    "collapsed": false,
    "ExecuteTime": {
     "end_time": "2025-01-23T08:51:47.888292Z",
     "start_time": "2025-01-23T08:51:45.186046600Z"
    }
   },
   "id": "85fee0ea4e46a043"
  },
  {
   "cell_type": "markdown",
   "source": [
    "## 导入数据"
   ],
   "metadata": {
    "collapsed": false
   },
   "id": "144a1372ea3e2a2f"
  },
  {
   "cell_type": "code",
   "execution_count": 3,
   "id": "initial_id",
   "metadata": {
    "collapsed": true,
    "ExecuteTime": {
     "end_time": "2025-01-23T08:51:48.314904400Z",
     "start_time": "2025-01-23T08:51:47.888292Z"
    }
   },
   "outputs": [],
   "source": [
    "data = pd.read_csv('D:\\\\学习\\\\论文\\\\2024new-第二篇\\\\pmy\\\\dataset\\\\NF-BoT-IoT\\\\data\\\\NF-BoT-IoT.csv')"
   ]
  },
  {
   "cell_type": "markdown",
   "source": [
    "## 将每个（源IP 目的IP）的netflow数量对齐至最大长度 max_length"
   ],
   "metadata": {
    "collapsed": false
   },
   "id": "118094ab9bd366d6"
  },
  {
   "cell_type": "code",
   "execution_count": 7,
   "outputs": [],
   "source": [
    "max_length = 10\n",
    "filtered_IP_list = []\n",
    "# 提取 sourceIP 和 dstIP 的所有唯一组合\n",
    "ip_combinations = data[['IPV4_SRC_ADDR', 'IPV4_DST_ADDR']].drop_duplicates()\n",
    "# 遍历每个组合\n",
    "for _, row in ip_combinations.iterrows():\n",
    "    source_ip = row['IPV4_SRC_ADDR']\n",
    "    dst_ip = row['IPV4_DST_ADDR']\n",
    "    # 筛选出匹配的行\n",
    "    filtered_data = data[(data['IPV4_SRC_ADDR'] == source_ip) & (data['IPV4_DST_ADDR'] == dst_ip)]\n",
    "    # 将筛选结果存入数组（包含元信息）\n",
    "    filtered_IP_list.append({\n",
    "        \"IPV4_SRC_ADDR\": source_ip,\n",
    "        \"IPV4_DST_ADDR\": dst_ip,\n",
    "        \"data\": filtered_data\n",
    "    })\n",
    "\n",
    "# 找出每个 IP 组的 data 个数\n",
    "data_lengths = [len(group[\"data\"]) for group in filtered_IP_list]\n",
    "\n",
    "\n",
    "if (max_length == 0): # 没有提前说明最大长度\n",
    "    max_length = max(data_lengths)\n",
    "\n",
    "\n",
    "\n",
    "# 在随机位置插入空值\n",
    "for group in filtered_IP_list:\n",
    "    data = group[\"data\"]\n",
    "    current_length = len(data)\n",
    "\n",
    "    # 如果当前数据长度小于 max_length，补齐为 max_length 行（全零行替换）\n",
    "    if current_length < max_length:\n",
    "        # 随机生成替换索引\n",
    "        # replace_indices = np.random.choice(range(max_length), size=current_length, replace=False)\n",
    "        replace_indices = np.sort(np.random.choice(range(max_length), size=current_length, replace=False))\n",
    "\n",
    "        # 构建全零行 DataFrame\n",
    "        zero_rows = pd.DataFrame(0, index=range(max_length), columns=data.columns)\n",
    "\n",
    "        # 创建新的 DataFrame，将全零行替换到指定位置\n",
    "        full_data = zero_rows.copy()\n",
    "        # for idx, row in enumerate(data.itertuples(index=False)):\n",
    "        #     full_data.iloc[replace_indices[idx]] = row\n",
    "        for idx, row in enumerate(data.itertuples(index=False)):\n",
    "            full_data.iloc[replace_indices[idx]] = pd.DataFrame([row])  # 仅保留数值部分\n",
    "        # 更新 group 数据\n",
    "        group[\"data\"] = full_data.head(max_length)\n",
    "    else:\n",
    "        # 更新 group 数据\n",
    "        group[\"data\"] = data.head(max_length)\n",
    "    "
   ],
   "metadata": {
    "collapsed": false,
    "ExecuteTime": {
     "end_time": "2025-01-23T08:53:07.844155900Z",
     "start_time": "2025-01-23T08:53:07.812892600Z"
    }
   },
   "id": "e41db72a60bcde75"
  },
  {
   "cell_type": "markdown",
   "source": [
    "## 按照当前填充过的数据集，重新构建数据集格式\n",
    "每个小数据集，包含所有不同的（源IP、目的IP）的一条数据"
   ],
   "metadata": {
    "collapsed": false
   },
   "id": "216fc2018eea694a"
  },
  {
   "cell_type": "code",
   "execution_count": 10,
   "outputs": [],
   "source": [
    "FinalDataList = []\n",
    "for i in range(max_length):\n",
    "    combined_data = []\n",
    "    # 遍历 filtered_data_list\n",
    "    for group in filtered_IP_list:\n",
    "        source_ip = group[\"IPV4_SRC_ADDR\"]\n",
    "        dst_ip = group[\"IPV4_DST_ADDR\"]\n",
    "        data = group[\"data\"]\n",
    "\n",
    "        # 从每组数据中提取一行（例如：第一行）\n",
    "        extracted_row = data.iloc[i]  # 或 np.random.choice(len(data)) 选择随机行\n",
    "        combined_data.append(extracted_row)\n",
    "\n",
    "        # 添加到 最终的数据集\n",
    "        FinalDataList.append({\n",
    "            \"source_ip\": source_ip,\n",
    "            \"dst_ip\": dst_ip,\n",
    "            \"data\": extracted_row.to_frame().T  # 转换为 DataFrame 格式\n",
    "        })"
   ],
   "metadata": {
    "collapsed": false,
    "ExecuteTime": {
     "end_time": "2025-01-23T08:53:47.626275800Z",
     "start_time": "2025-01-23T08:53:47.605508800Z"
    }
   },
   "id": "31442d3687d3fe85"
  },
  {
   "cell_type": "code",
   "execution_count": 11,
   "outputs": [
    {
     "data": {
      "text/plain": "[{'source_ip': '192.168.100.6',\n  'dst_ip': '192.168.100.1',\n  'data':    IPV4_SRC_ADDR L4_SRC_PORT  IPV4_DST_ADDR L4_DST_PORT PROTOCOL L7_PROTO  \\\n  0  192.168.100.6       52670  192.168.100.1          53       17    5.212   \n  \n    IN_BYTES OUT_BYTES IN_PKTS OUT_PKTS TCP_FLAGS FLOW_DURATION_MILLISECONDS  \\\n  0       71       126       1        1         0                    4294966   \n  \n    Label  Attack  \n  0     0  Benign  },\n {'source_ip': '192.168.100.6',\n  'dst_ip': '192.168.100.1',\n  'data':       IPV4_SRC_ADDR L4_SRC_PORT  IPV4_DST_ADDR L4_DST_PORT PROTOCOL L7_PROTO  \\\n  8394  192.168.100.6       58727  192.168.100.1          53       17    5.212   \n  \n       IN_BYTES OUT_BYTES IN_PKTS OUT_PKTS TCP_FLAGS FLOW_DURATION_MILLISECONDS  \\\n  8394       71       126       1        1         0                    4294957   \n  \n       Label  Attack  \n  8394     0  Benign  },\n {'source_ip': '192.168.100.6',\n  'dst_ip': '192.168.100.1',\n  'data':        IPV4_SRC_ADDR L4_SRC_PORT  IPV4_DST_ADDR L4_DST_PORT PROTOCOL L7_PROTO  \\\n  18819  192.168.100.6       59322  192.168.100.1          53       17    5.212   \n  \n        IN_BYTES OUT_BYTES IN_PKTS OUT_PKTS TCP_FLAGS  \\\n  18819       71       126       1        1         0   \n  \n        FLOW_DURATION_MILLISECONDS Label  Attack  \n  18819                    4294966     0  Benign  },\n {'source_ip': '192.168.100.6',\n  'dst_ip': '192.168.100.1',\n  'data':        IPV4_SRC_ADDR L4_SRC_PORT  IPV4_DST_ADDR L4_DST_PORT PROTOCOL L7_PROTO  \\\n  18884  192.168.100.6       64553  192.168.100.1          53       17    5.212   \n  \n        IN_BYTES OUT_BYTES IN_PKTS OUT_PKTS TCP_FLAGS  \\\n  18884       71       126       1        1         0   \n  \n        FLOW_DURATION_MILLISECONDS Label  Attack  \n  18884                    4294966     0  Benign  },\n {'source_ip': '192.168.100.6',\n  'dst_ip': '192.168.100.1',\n  'data':        IPV4_SRC_ADDR L4_SRC_PORT  IPV4_DST_ADDR L4_DST_PORT PROTOCOL L7_PROTO  \\\n  22397  192.168.100.6       60573  192.168.100.1          53       17    5.212   \n  \n        IN_BYTES OUT_BYTES IN_PKTS OUT_PKTS TCP_FLAGS  \\\n  22397       71       126       1        1         0   \n  \n        FLOW_DURATION_MILLISECONDS Label  Attack  \n  22397                    4294957     0  Benign  },\n {'source_ip': '192.168.100.6',\n  'dst_ip': '192.168.100.1',\n  'data':        IPV4_SRC_ADDR L4_SRC_PORT  IPV4_DST_ADDR L4_DST_PORT PROTOCOL L7_PROTO  \\\n  61918  192.168.100.6       63413  192.168.100.1          53       17    5.212   \n  \n        IN_BYTES OUT_BYTES IN_PKTS OUT_PKTS TCP_FLAGS  \\\n  61918       71       126       1        1         0   \n  \n        FLOW_DURATION_MILLISECONDS Label  Attack  \n  61918                    4294966     0  Benign  },\n {'source_ip': '192.168.100.6',\n  'dst_ip': '192.168.100.1',\n  'data':        IPV4_SRC_ADDR L4_SRC_PORT  IPV4_DST_ADDR L4_DST_PORT PROTOCOL L7_PROTO  \\\n  70144  192.168.100.6       50893  192.168.100.1          53       17    5.212   \n  \n        IN_BYTES OUT_BYTES IN_PKTS OUT_PKTS TCP_FLAGS  \\\n  70144       71       126       1        1         0   \n  \n        FLOW_DURATION_MILLISECONDS Label  Attack  \n  70144                    4294966     0  Benign  },\n {'source_ip': '192.168.100.6',\n  'dst_ip': '192.168.100.1',\n  'data':        IPV4_SRC_ADDR L4_SRC_PORT  IPV4_DST_ADDR L4_DST_PORT PROTOCOL L7_PROTO  \\\n  70209  192.168.100.6       64018  192.168.100.1          53       17    5.212   \n  \n        IN_BYTES OUT_BYTES IN_PKTS OUT_PKTS TCP_FLAGS  \\\n  70209       71       126       1        1         0   \n  \n        FLOW_DURATION_MILLISECONDS Label  Attack  \n  70209                    4294966     0  Benign  },\n {'source_ip': '192.168.100.6',\n  'dst_ip': '192.168.100.1',\n  'data':         IPV4_SRC_ADDR L4_SRC_PORT  IPV4_DST_ADDR L4_DST_PORT PROTOCOL  \\\n  598695  192.168.100.6       60300  192.168.100.1          53       17   \n  \n         L7_PROTO IN_BYTES OUT_BYTES IN_PKTS OUT_PKTS TCP_FLAGS  \\\n  598695      0.0       62       168       1        1         0   \n  \n         FLOW_DURATION_MILLISECONDS Label  Attack  \n  598695                    4294936     0  Benign  },\n {'source_ip': '192.168.100.6',\n  'dst_ip': '192.168.100.1',\n  'data':         IPV4_SRC_ADDR L4_SRC_PORT  IPV4_DST_ADDR L4_DST_PORT PROTOCOL  \\\n  598697  192.168.100.6       63019  192.168.100.1          53       17   \n  \n         L7_PROTO IN_BYTES OUT_BYTES IN_PKTS OUT_PKTS TCP_FLAGS  \\\n  598697    5.212       71       126       1        1         0   \n  \n         FLOW_DURATION_MILLISECONDS Label  Attack  \n  598697                    4294967     0  Benign  }]"
     },
     "execution_count": 11,
     "metadata": {},
     "output_type": "execute_result"
    }
   ],
   "source": [
    "FinalDataList"
   ],
   "metadata": {
    "collapsed": false,
    "ExecuteTime": {
     "end_time": "2025-01-23T08:53:57.802907600Z",
     "start_time": "2025-01-23T08:53:57.766770900Z"
    }
   },
   "id": "7e201d6e0f23a542"
  },
  {
   "cell_type": "code",
   "execution_count": 16,
   "outputs": [
    {
     "ename": "AttributeError",
     "evalue": "'list' object has no attribute 'iterrows'",
     "output_type": "error",
     "traceback": [
      "\u001B[1;31m---------------------------------------------------------------------------\u001B[0m",
      "\u001B[1;31mAttributeError\u001B[0m                            Traceback (most recent call last)",
      "Cell \u001B[1;32mIn[16], line 2\u001B[0m\n\u001B[0;32m      1\u001B[0m \u001B[38;5;28;01mfrom\u001B[39;00m \u001B[38;5;21;01mGraphBuild\u001B[39;00m \u001B[38;5;28;01mimport\u001B[39;00m \u001B[38;5;241m*\u001B[39m\n\u001B[1;32m----> 2\u001B[0m snapshots \u001B[38;5;241m=\u001B[39m \u001B[43mbuild_graph\u001B[49m\u001B[43m(\u001B[49m\u001B[43mFinalDataList\u001B[49m\u001B[43m)\u001B[49m\n",
      "File \u001B[1;32mD:\\学习\\论文\\2024new-第二篇\\pmy\\DLGNN\\dataProcess\\GraphBuild.py:27\u001B[0m, in \u001B[0;36mbuild_graph\u001B[1;34m(data)\u001B[0m\n\u001B[0;32m     25\u001B[0m G \u001B[38;5;241m=\u001B[39m nx\u001B[38;5;241m.\u001B[39mDiGraph()  \u001B[38;5;66;03m# 初始化一个有向图\u001B[39;00m\n\u001B[0;32m     26\u001B[0m edge_count \u001B[38;5;241m=\u001B[39m \u001B[38;5;241m0\u001B[39m\n\u001B[1;32m---> 27\u001B[0m \u001B[38;5;28;01mfor\u001B[39;00m _, row \u001B[38;5;129;01min\u001B[39;00m \u001B[43mdata\u001B[49m\u001B[38;5;241;43m.\u001B[39;49m\u001B[43miterrows\u001B[49m():\n\u001B[0;32m     28\u001B[0m     src, dest \u001B[38;5;241m=\u001B[39m row[\u001B[38;5;124m'\u001B[39m\u001B[38;5;124mIPV4_SRC_ADDR\u001B[39m\u001B[38;5;124m'\u001B[39m], row[\u001B[38;5;124m'\u001B[39m\u001B[38;5;124mIPV4_DST_ADDR\u001B[39m\u001B[38;5;124m'\u001B[39m]\n\u001B[0;32m     30\u001B[0m     \u001B[38;5;66;03m# 添加节点\u001B[39;00m\n",
      "\u001B[1;31mAttributeError\u001B[0m: 'list' object has no attribute 'iterrows'"
     ]
    }
   ],
   "source": [
    "from GraphBuild import *\n",
    "snapshots = build_graph(FinalDataList)"
   ],
   "metadata": {
    "collapsed": false,
    "ExecuteTime": {
     "end_time": "2025-01-23T08:58:06.939604300Z",
     "start_time": "2025-01-23T08:57:34.570607900Z"
    }
   },
   "id": "dcc3c34f444ec20e"
  },
  {
   "cell_type": "code",
   "execution_count": null,
   "outputs": [],
   "source": [],
   "metadata": {
    "collapsed": false
   },
   "id": "b216f338bba4da1b"
  }
 ],
 "metadata": {
  "kernelspec": {
   "display_name": "Python 3",
   "language": "python",
   "name": "python3"
  },
  "language_info": {
   "codemirror_mode": {
    "name": "ipython",
    "version": 2
   },
   "file_extension": ".py",
   "mimetype": "text/x-python",
   "name": "python",
   "nbconvert_exporter": "python",
   "pygments_lexer": "ipython2",
   "version": "2.7.6"
  }
 },
 "nbformat": 4,
 "nbformat_minor": 5
}
