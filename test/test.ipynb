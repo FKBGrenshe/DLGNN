{
 "cells": [
  {
   "cell_type": "code",
   "execution_count": 3,
   "outputs": [],
   "source": [
    "import pandas as pd\n",
    "import networkx as nx\n",
    "import numpy as np\n",
    "import torch"
   ],
   "metadata": {
    "collapsed": false,
    "ExecuteTime": {
     "end_time": "2025-01-22T15:22:45.099605800Z",
     "start_time": "2025-01-22T15:22:41.285516300Z"
    }
   },
   "id": "c33b74f0066313f4"
  },
  {
   "cell_type": "code",
   "execution_count": 4,
   "outputs": [],
   "source": [
    "data = pd.read_csv('D:\\\\学习\\\\论文\\\\2024new-第二篇\\\\pmy\\\\dataset\\\\NF-BoT-IoT\\\\data\\\\NF-BoT-IoT.csv')"
   ],
   "metadata": {
    "collapsed": false,
    "ExecuteTime": {
     "end_time": "2025-01-22T15:22:53.225467400Z",
     "start_time": "2025-01-22T15:22:52.669794600Z"
    }
   },
   "id": "8219df97dcf71fa5"
  },
  {
   "cell_type": "code",
   "execution_count": 5,
   "outputs": [
    {
     "data": {
      "text/plain": "         IPV4_SRC_ADDR  L4_SRC_PORT    IPV4_DST_ADDR  L4_DST_PORT  PROTOCOL  \\\n0        192.168.100.6        52670    192.168.100.1           53        17   \n1        192.168.100.6        49160  192.168.100.149         4444         6   \n2       192.168.100.46         3456    192.168.100.5           80        17   \n3        192.168.100.3           80   192.168.100.55         8080         6   \n4       192.168.100.46           80    192.168.100.5           80         6   \n...                ...          ...              ...          ...       ...   \n600095  192.168.100.46           80    192.168.100.5           80         6   \n600096   192.168.100.5            0    192.168.100.3            0         6   \n600097   192.168.100.7          365    192.168.100.3          565        17   \n600098   192.168.100.3        50850     13.54.166.67         8883         6   \n600099   192.168.100.6        49160  192.168.100.149         4444         6   \n\n        L7_PROTO   IN_BYTES  OUT_BYTES  IN_PKTS  OUT_PKTS  TCP_FLAGS  \\\n0          5.212         71        126        1         1          0   \n1          0.000  217753000     199100     4521      4049         24   \n2          0.000    8508021    8918372     9086      9086          0   \n3          7.000    8442138    9013406     9086      9086          0   \n4          7.000    8374706          0     9086         0          0   \n...          ...        ...        ...      ...       ...        ...   \n600095     7.000    2330065          0     2523         0          0   \n600096     0.000    1054423          0     1513         0          0   \n600097     0.000      62422          0     1357         0          0   \n600098   222.178      11300       1664       32        32         24   \n600099     0.000   40102320      37280      763       590         24   \n\n        FLOW_DURATION_MILLISECONDS  Label  Attack  \n0                          4294966      0  Benign  \n1                          4176249      1   Theft  \n2                          4175916      0  Benign  \n3                          4175916      0  Benign  \n4                          4175916      0  Benign  \n...                            ...    ...     ...  \n600095                     4263037      0  Benign  \n600096                     4263062      0  Benign  \n600097                     4263062      0  Benign  \n600098                     4264935      0  Benign  \n600099                     4270068      1   Theft  \n\n[600100 rows x 14 columns]",
      "text/html": "<div>\n<style scoped>\n    .dataframe tbody tr th:only-of-type {\n        vertical-align: middle;\n    }\n\n    .dataframe tbody tr th {\n        vertical-align: top;\n    }\n\n    .dataframe thead th {\n        text-align: right;\n    }\n</style>\n<table border=\"1\" class=\"dataframe\">\n  <thead>\n    <tr style=\"text-align: right;\">\n      <th></th>\n      <th>IPV4_SRC_ADDR</th>\n      <th>L4_SRC_PORT</th>\n      <th>IPV4_DST_ADDR</th>\n      <th>L4_DST_PORT</th>\n      <th>PROTOCOL</th>\n      <th>L7_PROTO</th>\n      <th>IN_BYTES</th>\n      <th>OUT_BYTES</th>\n      <th>IN_PKTS</th>\n      <th>OUT_PKTS</th>\n      <th>TCP_FLAGS</th>\n      <th>FLOW_DURATION_MILLISECONDS</th>\n      <th>Label</th>\n      <th>Attack</th>\n    </tr>\n  </thead>\n  <tbody>\n    <tr>\n      <th>0</th>\n      <td>192.168.100.6</td>\n      <td>52670</td>\n      <td>192.168.100.1</td>\n      <td>53</td>\n      <td>17</td>\n      <td>5.212</td>\n      <td>71</td>\n      <td>126</td>\n      <td>1</td>\n      <td>1</td>\n      <td>0</td>\n      <td>4294966</td>\n      <td>0</td>\n      <td>Benign</td>\n    </tr>\n    <tr>\n      <th>1</th>\n      <td>192.168.100.6</td>\n      <td>49160</td>\n      <td>192.168.100.149</td>\n      <td>4444</td>\n      <td>6</td>\n      <td>0.000</td>\n      <td>217753000</td>\n      <td>199100</td>\n      <td>4521</td>\n      <td>4049</td>\n      <td>24</td>\n      <td>4176249</td>\n      <td>1</td>\n      <td>Theft</td>\n    </tr>\n    <tr>\n      <th>2</th>\n      <td>192.168.100.46</td>\n      <td>3456</td>\n      <td>192.168.100.5</td>\n      <td>80</td>\n      <td>17</td>\n      <td>0.000</td>\n      <td>8508021</td>\n      <td>8918372</td>\n      <td>9086</td>\n      <td>9086</td>\n      <td>0</td>\n      <td>4175916</td>\n      <td>0</td>\n      <td>Benign</td>\n    </tr>\n    <tr>\n      <th>3</th>\n      <td>192.168.100.3</td>\n      <td>80</td>\n      <td>192.168.100.55</td>\n      <td>8080</td>\n      <td>6</td>\n      <td>7.000</td>\n      <td>8442138</td>\n      <td>9013406</td>\n      <td>9086</td>\n      <td>9086</td>\n      <td>0</td>\n      <td>4175916</td>\n      <td>0</td>\n      <td>Benign</td>\n    </tr>\n    <tr>\n      <th>4</th>\n      <td>192.168.100.46</td>\n      <td>80</td>\n      <td>192.168.100.5</td>\n      <td>80</td>\n      <td>6</td>\n      <td>7.000</td>\n      <td>8374706</td>\n      <td>0</td>\n      <td>9086</td>\n      <td>0</td>\n      <td>0</td>\n      <td>4175916</td>\n      <td>0</td>\n      <td>Benign</td>\n    </tr>\n    <tr>\n      <th>...</th>\n      <td>...</td>\n      <td>...</td>\n      <td>...</td>\n      <td>...</td>\n      <td>...</td>\n      <td>...</td>\n      <td>...</td>\n      <td>...</td>\n      <td>...</td>\n      <td>...</td>\n      <td>...</td>\n      <td>...</td>\n      <td>...</td>\n      <td>...</td>\n    </tr>\n    <tr>\n      <th>600095</th>\n      <td>192.168.100.46</td>\n      <td>80</td>\n      <td>192.168.100.5</td>\n      <td>80</td>\n      <td>6</td>\n      <td>7.000</td>\n      <td>2330065</td>\n      <td>0</td>\n      <td>2523</td>\n      <td>0</td>\n      <td>0</td>\n      <td>4263037</td>\n      <td>0</td>\n      <td>Benign</td>\n    </tr>\n    <tr>\n      <th>600096</th>\n      <td>192.168.100.5</td>\n      <td>0</td>\n      <td>192.168.100.3</td>\n      <td>0</td>\n      <td>6</td>\n      <td>0.000</td>\n      <td>1054423</td>\n      <td>0</td>\n      <td>1513</td>\n      <td>0</td>\n      <td>0</td>\n      <td>4263062</td>\n      <td>0</td>\n      <td>Benign</td>\n    </tr>\n    <tr>\n      <th>600097</th>\n      <td>192.168.100.7</td>\n      <td>365</td>\n      <td>192.168.100.3</td>\n      <td>565</td>\n      <td>17</td>\n      <td>0.000</td>\n      <td>62422</td>\n      <td>0</td>\n      <td>1357</td>\n      <td>0</td>\n      <td>0</td>\n      <td>4263062</td>\n      <td>0</td>\n      <td>Benign</td>\n    </tr>\n    <tr>\n      <th>600098</th>\n      <td>192.168.100.3</td>\n      <td>50850</td>\n      <td>13.54.166.67</td>\n      <td>8883</td>\n      <td>6</td>\n      <td>222.178</td>\n      <td>11300</td>\n      <td>1664</td>\n      <td>32</td>\n      <td>32</td>\n      <td>24</td>\n      <td>4264935</td>\n      <td>0</td>\n      <td>Benign</td>\n    </tr>\n    <tr>\n      <th>600099</th>\n      <td>192.168.100.6</td>\n      <td>49160</td>\n      <td>192.168.100.149</td>\n      <td>4444</td>\n      <td>6</td>\n      <td>0.000</td>\n      <td>40102320</td>\n      <td>37280</td>\n      <td>763</td>\n      <td>590</td>\n      <td>24</td>\n      <td>4270068</td>\n      <td>1</td>\n      <td>Theft</td>\n    </tr>\n  </tbody>\n</table>\n<p>600100 rows × 14 columns</p>\n</div>"
     },
     "execution_count": 5,
     "metadata": {},
     "output_type": "execute_result"
    }
   ],
   "source": [
    "data"
   ],
   "metadata": {
    "collapsed": false,
    "ExecuteTime": {
     "end_time": "2025-01-22T15:22:55.254820200Z",
     "start_time": "2025-01-22T15:22:55.185806300Z"
    }
   },
   "id": "5cb03d975e1027cf"
  },
  {
   "cell_type": "code",
   "execution_count": 9,
   "outputs": [
    {
     "data": {
      "text/plain": "         IPV4_SRC_ADDR    IPV4_DST_ADDR\n0        192.168.100.6    192.168.100.1\n1        192.168.100.6  192.168.100.149\n2       192.168.100.46    192.168.100.5\n3        192.168.100.3   192.168.100.55\n5        192.168.100.5    192.168.100.3\n...                ...              ...\n599133   192.168.100.3  205.251.199.203\n599136   192.168.100.3  205.251.194.102\n599186   192.168.100.3   54.200.220.170\n599207   192.168.100.6       203.5.76.9\n599949   192.168.100.3   172.217.25.138\n\n[181 rows x 2 columns]",
      "text/html": "<div>\n<style scoped>\n    .dataframe tbody tr th:only-of-type {\n        vertical-align: middle;\n    }\n\n    .dataframe tbody tr th {\n        vertical-align: top;\n    }\n\n    .dataframe thead th {\n        text-align: right;\n    }\n</style>\n<table border=\"1\" class=\"dataframe\">\n  <thead>\n    <tr style=\"text-align: right;\">\n      <th></th>\n      <th>IPV4_SRC_ADDR</th>\n      <th>IPV4_DST_ADDR</th>\n    </tr>\n  </thead>\n  <tbody>\n    <tr>\n      <th>0</th>\n      <td>192.168.100.6</td>\n      <td>192.168.100.1</td>\n    </tr>\n    <tr>\n      <th>1</th>\n      <td>192.168.100.6</td>\n      <td>192.168.100.149</td>\n    </tr>\n    <tr>\n      <th>2</th>\n      <td>192.168.100.46</td>\n      <td>192.168.100.5</td>\n    </tr>\n    <tr>\n      <th>3</th>\n      <td>192.168.100.3</td>\n      <td>192.168.100.55</td>\n    </tr>\n    <tr>\n      <th>5</th>\n      <td>192.168.100.5</td>\n      <td>192.168.100.3</td>\n    </tr>\n    <tr>\n      <th>...</th>\n      <td>...</td>\n      <td>...</td>\n    </tr>\n    <tr>\n      <th>599133</th>\n      <td>192.168.100.3</td>\n      <td>205.251.199.203</td>\n    </tr>\n    <tr>\n      <th>599136</th>\n      <td>192.168.100.3</td>\n      <td>205.251.194.102</td>\n    </tr>\n    <tr>\n      <th>599186</th>\n      <td>192.168.100.3</td>\n      <td>54.200.220.170</td>\n    </tr>\n    <tr>\n      <th>599207</th>\n      <td>192.168.100.6</td>\n      <td>203.5.76.9</td>\n    </tr>\n    <tr>\n      <th>599949</th>\n      <td>192.168.100.3</td>\n      <td>172.217.25.138</td>\n    </tr>\n  </tbody>\n</table>\n<p>181 rows × 2 columns</p>\n</div>"
     },
     "execution_count": 9,
     "metadata": {},
     "output_type": "execute_result"
    }
   ],
   "source": [
    "\"\"\"\n",
    "Gf(Vf,Ef)\n",
    "Vf: ip\n",
    "Ef: protocl, flow duration, incoming flow bytes, bytes per packet, TCP flags of the first packet\n",
    "\"\"\"\n",
    "# 提取 sourceIP 和 dstIP 的所有唯一组合\n",
    "ip_combinations = data[['IPV4_SRC_ADDR', 'IPV4_DST_ADDR']].drop_duplicates()\n",
    "ip_combinations\n"
   ],
   "metadata": {
    "collapsed": false,
    "ExecuteTime": {
     "end_time": "2025-01-22T15:32:57.402596500Z",
     "start_time": "2025-01-22T15:32:57.305839800Z"
    }
   },
   "id": "3194c75682d2253d"
  },
  {
   "cell_type": "code",
   "execution_count": 7,
   "outputs": [
    {
     "data": {
      "text/plain": "<pandas.core.groupby.generic.DataFrameGroupBy object at 0x000001EBF2352110>"
     },
     "execution_count": 7,
     "metadata": {},
     "output_type": "execute_result"
    }
   ],
   "source": [
    "data = pd.read_csv('D:\\\\学习\\\\论文\\\\2024new-第二篇\\\\pmy\\\\dataset\\\\NF-BoT-IoT\\\\data\\\\NF-BoT-IoT.csv')"
   ],
   "metadata": {
    "collapsed": false,
    "ExecuteTime": {
     "end_time": "2025-01-22T15:23:06.371338300Z",
     "start_time": "2025-01-22T15:23:06.320976900Z"
    }
   },
   "id": "61acce7a041e7311"
  },
  {
   "cell_type": "code",
   "execution_count": 5,
   "outputs": [],
   "source": [
    "filtered_IP_list = []\n",
    "# 提取 sourceIP 和 dstIP 的所有唯一组合\n",
    "ip_combinations = data[['IPV4_SRC_ADDR', 'IPV4_DST_ADDR']].drop_duplicates()\n",
    "# 遍历每个组合\n",
    "for _, row in ip_combinations.iterrows():\n",
    "    source_ip = row['IPV4_SRC_ADDR']\n",
    "    dst_ip = row['IPV4_DST_ADDR']\n",
    "    # 筛选出匹配的行\n",
    "    filtered_data = data[(data['IPV4_SRC_ADDR'] == source_ip) & (data['IPV4_DST_ADDR'] == dst_ip)]\n",
    "    # 将筛选结果存入数组（包含元信息）\n",
    "    filtered_IP_list.append({\n",
    "        \"IPV4_SRC_ADDR\": source_ip,\n",
    "        \"IPV4_DST_ADDR\": dst_ip,\n",
    "        \"data\": filtered_data\n",
    "    })\n",
    "\n",
    "# 找出每个 IP 组的 data 个数\n",
    "data_lengths = [len(group[\"data\"]) for group in filtered_IP_list]\n",
    "max_length = max(data_lengths)\n",
    "\n",
    "# # 在随机位置插入空值\n",
    "# for group in filtered_IP_list:\n",
    "#     data = group[\"data\"]\n",
    "#     current_length = len(data)\n",
    "# \n",
    "#     if current_length < max_length:\n",
    "#         num_rows_to_add = max_length - current_length\n",
    "# \n",
    "#         # 构建空值 DataFrame，与原数据保持相同的列名\n",
    "#         zero_rows = pd.DataFrame(0, index=range(num_rows_to_add), columns=data.columns)\n",
    "# \n",
    "#         # # 随机插入空值\n",
    "#         # insertion_indices = np.random.choice(range(current_length + num_rows_to_add), size=num_rows_to_add,\n",
    "#         #                                      replace=False)\n",
    "# \n",
    "#         # 指定插入位置（这里以固定位置为例，可根据需求更改）\n",
    "#         insertion_indices = np.linspace(0, current_length, num=num_rows_to_add, endpoint=False, dtype=int)\n",
    "# \n",
    "#         # 将原数据和全 0 行合并\n",
    "#         for index in insertion_indices:\n",
    "#             data = pd.concat([data.iloc[:index], zero_rows.iloc[:1], data.iloc[index:]]).reset_index(drop=True)\n",
    "#             zero_rows = zero_rows.iloc[1:]  # 更新 zero_rows 剩余部分\n",
    "# \n",
    "#         # 更新组的 data\n",
    "#         group[\"data\"] = data\n",
    "            \n",
    "            "
   ],
   "metadata": {
    "collapsed": false,
    "ExecuteTime": {
     "end_time": "2025-01-22T03:39:16.539846400Z",
     "start_time": "2025-01-22T03:39:16.530767600Z"
    }
   },
   "id": "d5b0406d226f3108"
  },
  {
   "cell_type": "code",
   "execution_count": 6,
   "outputs": [],
   "source": [
    "# 构建时空图：Dynamic Spatiotemporal Graph Snapshots\n",
    "def build_graph(data, max_edges_per_snapshot):\n",
    "    \"\"\"\n",
    "    根据网络流的顺序生成动态图快照\n",
    "    Args:\n",
    "    - data: DataFrame，包含网络流量记录，字段包括：\n",
    "        - IPV4_SRC_ADDR: 源IP地址\n",
    "        - IPV4_DST_ADDR: 目标IP地址\n",
    "        - PROTOCOL: 协议类型\n",
    "        - FLOW_DURATION_MILLISECONDS: 流持续时间\n",
    "        - IN_BYTES\n",
    "        - OUT_BYTES\n",
    "        - bytes_per_packet: 每个包的字节数 暂时设成 in+out / packetsNum\n",
    "        - TCP_FLAGS: TCP标志\n",
    "    - max_edges_per_snapshot: 每个快照中允许的最大边数（控制快照大小）\n",
    "    \n",
    "    Returns:\n",
    "    - snapshots: 包含多个图快照的列表，每个快照是一个 NetworkX 图\n",
    "    \"\"\"\n",
    "    snapshots = []\n",
    "    G = nx.DiGraph()  # 初始化一个有向图\n",
    "    edge_count = 0\n",
    "    for _, row in data:\n",
    "        src, dest = row['IPV4_SRC_ADDR'], row['IPV4_DST_ADDR']\n",
    "\n",
    "        # 添加节点\n",
    "        if not G.has_node(src):\n",
    "            G.add_node(src, type='IP')\n",
    "        if not G.has_node(dest):\n",
    "            G.add_node(dest, type='IP')\n",
    "\n",
    "        # 添加边及其特征\n",
    "        G.add_edge(\n",
    "            src,dest,\n",
    "            protocol=row['PROTOCOL'],\n",
    "            flow_duration=row['FLOW_DURATION_MILLISECONDS'],\n",
    "            incoming_flow_bytes=row['IN_BYTES'],\n",
    "            bytes_per_packet=(row['IN_BYTES']+row['OUT_BYTES'])/(row['IN_PKTS']+row['OUT_PKTS']),\n",
    "            tcp_flags=row['TCP_FLAGS']\n",
    "        )\n",
    "        edge_count += 1\n",
    "\n",
    "        # 当达到最大边数时，保存当前快照，开始一个新图\n",
    "        if edge_count >= max_edges_per_snapshot:\n",
    "            snapshots.append(G)\n",
    "            G = nx.DiGraph()  # 创建新图\n",
    "            edge_count = 0\n",
    "\n",
    "    # 如果最后一个图有剩余边，也需要保存\n",
    "    if G.number_of_edges() > 0:\n",
    "        snapshots.append(G)\n",
    "\n",
    "    return snapshots\n",
    "\n",
    "    "
   ],
   "metadata": {
    "collapsed": false,
    "ExecuteTime": {
     "end_time": "2025-01-22T03:39:17.388217100Z",
     "start_time": "2025-01-22T03:39:17.386217500Z"
    }
   },
   "id": "f8a66f9ee6fc878d"
  },
  {
   "cell_type": "code",
   "execution_count": 7,
   "outputs": [
    {
     "name": "stdout",
     "output_type": "stream",
     "text": [
      "Snapshot 0:\n",
      "Nodes: [('192.168.100.6', {'type': 'IP'}), ('192.168.100.1', {'type': 'IP'}), ('192.168.100.149', {'type': 'IP'}), ('192.168.100.46', {'type': 'IP'}), ('192.168.100.5', {'type': 'IP'}), ('192.168.100.3', {'type': 'IP'}), ('192.168.100.55', {'type': 'IP'}), ('192.168.100.7', {'type': 'IP'}), ('13.54.166.67', {'type': 'IP'}), ('192.168.100.150', {'type': 'IP'}), ('192.168.100.255', {'type': 'IP'}), ('27.124.125.251', {'type': 'IP'}), ('192.168.100.4', {'type': 'IP'}), ('91.189.94.4', {'type': 'IP'})]\n",
      "Edges: [('192.168.100.6', '192.168.100.1', {'protocol': 17, 'flow_duration': 4294966, 'incoming_flow_bytes': 71, 'bytes_per_packet': 98.5, 'tcp_flags': 0}), ('192.168.100.6', '192.168.100.149', {'protocol': 6, 'flow_duration': 4176249, 'incoming_flow_bytes': 217753000, 'bytes_per_packet': 25431.98366394399, 'tcp_flags': 24}), ('192.168.100.6', '192.168.100.3', {'protocol': 6, 'flow_duration': 4175008, 'incoming_flow_bytes': 898452, 'bytes_per_packet': 282.0, 'tcp_flags': 0}), ('192.168.100.6', '192.168.100.255', {'protocol': 17, 'flow_duration': 0, 'incoming_flow_bytes': 236, 'bytes_per_packet': 236.0, 'tcp_flags': 0}), ('192.168.100.149', '192.168.100.6', {'protocol': 6, 'flow_duration': 4294915, 'incoming_flow_bytes': 208, 'bytes_per_packet': 136.0, 'tcp_flags': 24}), ('192.168.100.46', '192.168.100.5', {'protocol': 17, 'flow_duration': 4174983, 'incoming_flow_bytes': 8917068, 'bytes_per_packet': 958.7765879265091, 'tcp_flags': 0}), ('192.168.100.5', '192.168.100.3', {'protocol': 6, 'flow_duration': 4174995, 'incoming_flow_bytes': 3946628, 'bytes_per_packet': 696.7916666666666, 'tcp_flags': 0}), ('192.168.100.5', '192.168.100.46', {'protocol': 17, 'flow_duration': 4174981, 'incoming_flow_bytes': 8906982, 'bytes_per_packet': 958.7843212869105, 'tcp_flags': 0}), ('192.168.100.3', '192.168.100.55', {'protocol': 6, 'flow_duration': 4174981, 'incoming_flow_bytes': 8435248, 'bytes_per_packet': 960.6065998237109, 'tcp_flags': 0}), ('192.168.100.3', '13.54.166.67', {'protocol': 6, 'flow_duration': 4176086, 'incoming_flow_bytes': 39552, 'bytes_per_packet': 232.0, 'tcp_flags': 24}), ('192.168.100.3', '192.168.100.150', {'protocol': 6, 'flow_duration': 4175089, 'incoming_flow_bytes': 228223480, 'bytes_per_packet': 4787.932150182077, 'tcp_flags': 24}), ('192.168.100.55', '192.168.100.3', {'protocol': 6, 'flow_duration': 4174978, 'incoming_flow_bytes': 9362946, 'bytes_per_packet': 960.53125, 'tcp_flags': 0}), ('192.168.100.7', '192.168.100.3', {'protocol': 17, 'flow_duration': 4174995, 'incoming_flow_bytes': 233404, 'bytes_per_packet': 46.0, 'tcp_flags': 0}), ('192.168.100.7', '192.168.100.255', {'protocol': 17, 'flow_duration': 4294967, 'incoming_flow_bytes': 515, 'bytes_per_packet': 257.5, 'tcp_flags': 0}), ('192.168.100.150', '192.168.100.3', {'protocol': 6, 'flow_duration': 4248103, 'incoming_flow_bytes': 167697, 'bytes_per_packet': 8441.234949531363, 'tcp_flags': 24}), ('192.168.100.150', '27.124.125.251', {'protocol': 17, 'flow_duration': 4294918, 'incoming_flow_bytes': 76, 'bytes_per_packet': 76.0, 'tcp_flags': 0}), ('192.168.100.4', '91.189.94.4', {'protocol': 17, 'flow_duration': 4294678, 'incoming_flow_bytes': 76, 'bytes_per_packet': 76.0, 'tcp_flags': 0})]\n",
      "Snapshot 1:\n",
      "Nodes: [('192.168.100.55', {'type': 'IP'}), ('192.168.100.3', {'type': 'IP'}), ('192.168.100.46', {'type': 'IP'}), ('192.168.100.5', {'type': 'IP'}), ('192.168.100.6', {'type': 'IP'}), ('192.168.100.7', {'type': 'IP'}), ('13.54.166.67', {'type': 'IP'}), ('192.168.100.150', {'type': 'IP'}), ('192.168.100.149', {'type': 'IP'}), ('192.168.100.255', {'type': 'IP'})]\n",
      "Edges: [('192.168.100.55', '192.168.100.3', {'protocol': 6, 'flow_duration': 4174980, 'incoming_flow_bytes': 9450198, 'bytes_per_packet': 960.6110527973129, 'tcp_flags': 0}), ('192.168.100.3', '13.54.166.67', {'protocol': 6, 'flow_duration': 4198752, 'incoming_flow_bytes': 32516, 'bytes_per_packet': 221.87951807228916, 'tcp_flags': 24}), ('192.168.100.3', '192.168.100.55', {'protocol': 6, 'flow_duration': 0, 'incoming_flow_bytes': 7465453, 'bytes_per_packet': 960.5503485187951, 'tcp_flags': 0}), ('192.168.100.46', '192.168.100.5', {'protocol': 6, 'flow_duration': 1273583, 'incoming_flow_bytes': 7410498, 'bytes_per_packet': 922.3920836445109, 'tcp_flags': 0}), ('192.168.100.5', '192.168.100.3', {'protocol': 6, 'flow_duration': 1273580, 'incoming_flow_bytes': 3358538, 'bytes_per_packet': 696.7921161825726, 'tcp_flags': 0}), ('192.168.100.6', '192.168.100.3', {'protocol': 6, 'flow_duration': 1273580, 'incoming_flow_bytes': 764784, 'bytes_per_packet': 282.0, 'tcp_flags': 0}), ('192.168.100.6', '192.168.100.255', {'protocol': 17, 'flow_duration': 0, 'incoming_flow_bytes': 229, 'bytes_per_packet': 229.0, 'tcp_flags': 0}), ('192.168.100.7', '192.168.100.3', {'protocol': 17, 'flow_duration': 1273583, 'incoming_flow_bytes': 198674, 'bytes_per_packet': 46.0, 'tcp_flags': 0}), ('192.168.100.150', '192.168.100.3', {'protocol': 6, 'flow_duration': 4288851, 'incoming_flow_bytes': 866, 'bytes_per_packet': 175.11111111111111, 'tcp_flags': 27}), ('192.168.100.149', '192.168.100.6', {'protocol': 6, 'flow_duration': 4190095, 'incoming_flow_bytes': 181528, 'bytes_per_packet': 26427.289996107436, 'tcp_flags': 24})]\n",
      "Snapshot 2:\n",
      "Nodes: [('192.168.100.150', {'type': 'IP'}), ('192.168.100.3', {'type': 'IP'})]\n",
      "Edges: [('192.168.100.150', '192.168.100.3', {'protocol': 6, 'flow_duration': 4287828, 'incoming_flow_bytes': 643, 'bytes_per_packet': 150.33333333333334, 'tcp_flags': 27})]\n"
     ]
    }
   ],
   "source": [
    "'生成动态图快照'\n",
    "max_edges_per_snapshot = 50  # 每个快照最多包含50条边\n",
    "snapshots = build_graph(data, max_edges_per_snapshot)\n",
    "\n",
    "# 打印每个图快照的节点和边\n",
    "for i, G in enumerate(snapshots):\n",
    "    print(f\"Snapshot {i}:\")\n",
    "    print(\"Nodes:\", G.nodes(data=True))\n",
    "    print(\"Edges:\", G.edges(data=True))\n",
    "    if(i > 1):\n",
    "        break"
   ],
   "metadata": {
    "collapsed": false,
    "ExecuteTime": {
     "end_time": "2025-01-22T03:39:55.159330200Z",
     "start_time": "2025-01-22T03:39:18.207676300Z"
    }
   },
   "id": "2bf5d2c0d82e551a"
  },
  {
   "cell_type": "code",
   "execution_count": 8,
   "outputs": [],
   "source": [
    "def generate_line_graph_snapshots(graph_snapshots):\n",
    "    \"\"\"\n",
    "    基于时空图快照生成线图快照\n",
    "    Args:\n",
    "    - graph_snapshots: List[networkx.Graph]，原始时空图快照的列表\n",
    "\n",
    "    Returns:\n",
    "    - line_graph_snapshots: List[networkx.Graph]，线图快照的列表\n",
    "    \"\"\"\n",
    "    line_graph_snapshots = []\n",
    "\n",
    "    for i, G in enumerate(graph_snapshots):\n",
    "        # 使用 NetworkX 的 line_graph 方法生成线图\n",
    "        line_graph = nx.line_graph(G)\n",
    "\n",
    "        # 传递原始图的边特征到线图的节点\n",
    "        for edge in line_graph.nodes:\n",
    "            # edge 是原始图中的一条边，例如 (u, v)\n",
    "            if G.has_edge(*edge):\n",
    "                # 将原始图边的属性复制到线图节点\n",
    "                line_graph.nodes[edge].update(G.edges[edge])\n",
    "\n",
    "        line_graph_snapshots.append(line_graph)\n",
    "\n",
    "    return line_graph_snapshots\n",
    "\n",
    "# 示例原始时空图快照（生成简单图作为示例）\n",
    "def create_sample_graph_snapshots():\n",
    "    G1 = nx.Graph()\n",
    "    G1.add_edge('192.168.1.1', '192.168.1.2', protocol='TCP', bytes=100)\n",
    "    G1.add_edge('192.168.1.2', '192.168.1.3', protocol='UDP', bytes=200)\n",
    "\n",
    "    G2 = nx.Graph()\n",
    "    G2.add_edge('192.168.1.1', '192.168.1.3', protocol='TCP', bytes=300)\n",
    "    G2.add_edge('192.168.1.3', '192.168.1.4', protocol='UDP', bytes=400)\n",
    "\n",
    "    return [G1, G2]\n",
    "\n",
    "# # 生成原始时空图快照\n",
    "# graph_snapshots = create_sample_graph_snapshots()\n",
    "# \n",
    "# # 生成线图快照\n",
    "# line_graph_snapshots = generate_line_graph_snapshots(graph_snapshots)\n",
    "# \n",
    "# # 打印每个线图快照的节点和边\n",
    "# for i, LG in enumerate(line_graph_snapshots):\n",
    "#     print(f\"Line Graph Snapshot {i}:\")\n",
    "#     print(\"Nodes:\", LG.nodes(data=True))\n",
    "#     print(\"Edges:\", LG.edges())\n"
   ],
   "metadata": {
    "collapsed": false,
    "ExecuteTime": {
     "end_time": "2025-01-22T03:40:04.810835800Z",
     "start_time": "2025-01-22T03:40:04.795206800Z"
    }
   },
   "id": "daf17eb3cd93fb5a"
  },
  {
   "cell_type": "code",
   "execution_count": 9,
   "outputs": [],
   "source": [
    "'生成线图快照'\n",
    "line_graph_snapshots = generate_line_graph_snapshots(snapshots)"
   ],
   "metadata": {
    "collapsed": false,
    "ExecuteTime": {
     "end_time": "2025-01-22T03:40:06.361653500Z",
     "start_time": "2025-01-22T03:40:05.881907600Z"
    }
   },
   "id": "f1b868ce1bd970c7"
  },
  {
   "cell_type": "code",
   "execution_count": 10,
   "outputs": [],
   "source": [
    "def generate_line_graph_matrices(graph_snapshots):\n",
    "    \"\"\"\n",
    "    生成线图的邻接矩阵和特征矩阵序列\n",
    "    Args:\n",
    "    - graph_snapshots: List[networkx.Graph]，原始图快照列表，每个图包含边特征\n",
    "\n",
    "    Returns:\n",
    "    - adjacency_matrices: List[torch.Tensor]，线图邻接矩阵列表 (A1, A2, ..., Ak)\n",
    "    - feature_matrices: torch.Tensor，线图特征矩阵序列 (X1, X2, ..., Xk)，形状为 (k, n, d)\n",
    "    \"\"\"\n",
    "    adjacency_matrices = []  # 存储线图的邻接矩阵\n",
    "    feature_matrices = []    # 存储线图的特征矩阵\n",
    "\n",
    "    for G in graph_snapshots:\n",
    "        # Step 1: 创建线图\n",
    "        line_graph = nx.line_graph(G)\n",
    "\n",
    "        # Step 2: 获取线图邻接矩阵\n",
    "        nodes = list(line_graph.nodes)  # 线图节点（对应原始图的边）\n",
    "        node_to_idx = {node: idx for idx, node in enumerate(nodes)}\n",
    "        n = len(nodes)\n",
    "        A = np.zeros((n, n), dtype=np.float32)\n",
    "        for u, v in line_graph.edges:\n",
    "            A[node_to_idx[u], node_to_idx[v]] = 1.0\n",
    "            A[node_to_idx[v], node_to_idx[u]] = 1.0\n",
    "        adjacency_matrices.append(torch.tensor(A))\n",
    "\n",
    "        # Step 3: 获取线图特征矩阵\n",
    "        d = len(G.edges[nodes[0]])  # 原始图边的特征维度\n",
    "        X = np.zeros((n, d), dtype=np.float32)\n",
    "        for edge, idx in node_to_idx.items():\n",
    "            X[idx] = np.array([G.edges[edge][attr] for attr in G.edges[edge]])\n",
    "        feature_matrices.append(torch.tensor(X))\n",
    "\n",
    "    # 将特征矩阵堆叠为 (k, n, d)\n",
    "    feature_matrices = torch.stack(feature_matrices)\n",
    "\n",
    "    return adjacency_matrices, feature_matrices\n",
    "\n",
    "# 示例原始图快照\n",
    "def create_sample_graph_snapshots():\n",
    "    G1 = nx.Graph()\n",
    "    G1.add_edge('192.168.1.1', '192.168.1.2', protocol=1, flow_duration=5, bytes=100)\n",
    "    G1.add_edge('192.168.1.2', '192.168.1.3', protocol=2, flow_duration=10, bytes=200)\n",
    "\n",
    "    G2 = nx.Graph()\n",
    "    G2.add_edge('192.168.1.1', '192.168.1.3', protocol=1, flow_duration=8, bytes=150)\n",
    "    G2.add_edge('192.168.1.3', '192.168.1.4', protocol=3, flow_duration=12, bytes=300)\n",
    "\n",
    "    return [G1, G2]\n"
   ],
   "metadata": {
    "collapsed": false,
    "ExecuteTime": {
     "end_time": "2025-01-22T03:40:08.459578200Z",
     "start_time": "2025-01-22T03:40:08.443878300Z"
    }
   },
   "id": "9b37cb5dd725f0b5"
  },
  {
   "cell_type": "code",
   "execution_count": 11,
   "outputs": [
    {
     "ename": "IndexError",
     "evalue": "list index out of range",
     "output_type": "error",
     "traceback": [
      "\u001B[1;31m---------------------------------------------------------------------------\u001B[0m",
      "\u001B[1;31mIndexError\u001B[0m                                Traceback (most recent call last)",
      "Cell \u001B[1;32mIn[11], line 2\u001B[0m\n\u001B[0;32m      1\u001B[0m \u001B[38;5;124m'\u001B[39m\u001B[38;5;124m生成线图邻接矩阵和特征矩阵\u001B[39m\u001B[38;5;124m'\u001B[39m\n\u001B[1;32m----> 2\u001B[0m adjacency_matrices, feature_matrices \u001B[38;5;241m=\u001B[39m \u001B[43mgenerate_line_graph_matrices\u001B[49m\u001B[43m(\u001B[49m\u001B[43mline_graph_snapshots\u001B[49m\u001B[43m)\u001B[49m\n\u001B[0;32m      3\u001B[0m adjacency_matrices\n",
      "Cell \u001B[1;32mIn[10], line 29\u001B[0m, in \u001B[0;36mgenerate_line_graph_matrices\u001B[1;34m(graph_snapshots)\u001B[0m\n\u001B[0;32m     26\u001B[0m adjacency_matrices\u001B[38;5;241m.\u001B[39mappend(torch\u001B[38;5;241m.\u001B[39mtensor(A))\n\u001B[0;32m     28\u001B[0m \u001B[38;5;66;03m# Step 3: 获取线图特征矩阵\u001B[39;00m\n\u001B[1;32m---> 29\u001B[0m d \u001B[38;5;241m=\u001B[39m \u001B[38;5;28mlen\u001B[39m(G\u001B[38;5;241m.\u001B[39medges[\u001B[43mnodes\u001B[49m\u001B[43m[\u001B[49m\u001B[38;5;241;43m0\u001B[39;49m\u001B[43m]\u001B[49m])  \u001B[38;5;66;03m# 原始图边的特征维度\u001B[39;00m\n\u001B[0;32m     30\u001B[0m X \u001B[38;5;241m=\u001B[39m np\u001B[38;5;241m.\u001B[39mzeros((n, d), dtype\u001B[38;5;241m=\u001B[39mnp\u001B[38;5;241m.\u001B[39mfloat32)\n\u001B[0;32m     31\u001B[0m \u001B[38;5;28;01mfor\u001B[39;00m edge, idx \u001B[38;5;129;01min\u001B[39;00m node_to_idx\u001B[38;5;241m.\u001B[39mitems():\n",
      "\u001B[1;31mIndexError\u001B[0m: list index out of range"
     ]
    }
   ],
   "source": [
    "'生成线图邻接矩阵和特征矩阵'\n",
    "adjacency_matrices, feature_matrices = generate_line_graph_matrices(line_graph_snapshots)\n",
    "adjacency_matrices"
   ],
   "metadata": {
    "collapsed": false,
    "ExecuteTime": {
     "end_time": "2025-01-22T03:40:10.633299200Z",
     "start_time": "2025-01-22T03:40:09.214426300Z"
    }
   },
   "id": "593bc71a3a535d79"
  },
  {
   "cell_type": "code",
   "execution_count": 6,
   "outputs": [
    {
     "name": "stdout",
     "output_type": "stream",
     "text": [
      "线图节点: [((2, 4), {}), ((3, 4), {}), ((4, 5), {}), ((1, 5), {}), ((1, 2), {}), ((2, 3), {})]\n",
      "线图边: [((2, 4), (3, 4), {}), ((2, 4), (4, 5), {}), ((2, 4), (2, 3), {}), ((2, 4), (1, 2), {}), ((3, 4), (2, 3), {}), ((3, 4), (4, 5), {}), ((4, 5), (1, 5), {}), ((1, 5), (1, 2), {}), ((1, 2), (2, 3), {})]\n"
     ]
    }
   ],
   "source": [
    "import networkx as nx\n",
    "\n",
    "def graph_to_line_graph(G_f):\n",
    "    line_graph_snapshots = []\n",
    "    # for G_f in graph_snapshots:\n",
    "    # 创建线图\n",
    "    L_f = nx.line_graph(G_f)  # 利用NetworkX生成线图\n",
    "    line_graph_snapshots.append(L_f)\n",
    "    return L_f\n",
    "\n",
    "# 示例输入\n",
    "G_f = nx.Graph()\n",
    "G_f.add_edges_from([(1, 2), (2, 3), (3, 4),(4,5),(5,1),(4,2)])  # 添加边\n",
    "\n",
    "# 转换为线图\n",
    "line_graph_snapshots = graph_to_line_graph(G_f)\n",
    "# for L_f in line_graph_snapshots:\n",
    "print(\"线图节点:\", line_graph_snapshots.nodes(data=True))\n",
    "print(\"线图边:\", line_graph_snapshots.edges(data=True))\n"
   ],
   "metadata": {
    "collapsed": false,
    "ExecuteTime": {
     "end_time": "2025-01-24T08:24:42.373198Z",
     "start_time": "2025-01-24T08:24:42.366196300Z"
    }
   },
   "id": "aa8b69d3b862bec9"
  },
  {
   "cell_type": "code",
   "execution_count": 7,
   "outputs": [
    {
     "name": "stdout",
     "output_type": "stream",
     "text": [
      "线图邻接矩阵:\n",
      "[[0. 1. 1. 0.]\n",
      " [1. 0. 0. 1.]\n",
      " [1. 0. 0. 1.]\n",
      " [0. 1. 1. 0.]]\n"
     ]
    }
   ],
   "source": [
    "import numpy as np\n",
    "import networkx as nx\n",
    "\n",
    "# 创建原图\n",
    "G = nx.Graph()\n",
    "G.add_edges_from([(0, 1), (1, 2), (2, 3), (3, 0)])  # 原图有4条边\n",
    "\n",
    "# 获取原图邻接矩阵\n",
    "A = nx.adjacency_matrix(G).toarray()\n",
    "\n",
    "# 获取原图的边列表\n",
    "edges = list(G.edges)\n",
    "num_edges = len(edges)\n",
    "\n",
    "# 初始化线图邻接矩阵\n",
    "A_L = np.zeros((num_edges, num_edges))\n",
    "\n",
    "# 构造线图邻接矩阵\n",
    "for i, (u1, v1) in enumerate(edges):\n",
    "    for j, (u2, v2) in enumerate(edges):\n",
    "        # 如果两条边共享一个端点，则它们在线图中相连\n",
    "        if len(set([u1, v1]).intersection([u2, v2])) > 0 and i != j:\n",
    "            A_L[i, j] = 1\n",
    "\n",
    "print(\"线图邻接矩阵:\")\n",
    "print(A_L)\n"
   ],
   "metadata": {
    "collapsed": false,
    "ExecuteTime": {
     "end_time": "2025-01-24T08:54:59.474112500Z",
     "start_time": "2025-01-24T08:54:58.873813600Z"
    }
   },
   "id": "3eb2ec621f6d1ade"
  },
  {
   "cell_type": "code",
   "execution_count": 8,
   "outputs": [
    {
     "name": "stdout",
     "output_type": "stream",
     "text": [
      "线图节点特征矩阵:\n",
      "[[0 1]\n",
      " [0 3]\n",
      " [1 2]\n",
      " [2 3]]\n"
     ]
    }
   ],
   "source": [
    "# 假设原图的每个节点有一个特征（示例：节点编号作为特征）\n",
    "node_features = {i: [i] for i in G.nodes}\n",
    "\n",
    "# 生成线图的节点特征矩阵\n",
    "X_L = []\n",
    "for u, v in edges:\n",
    "    # 方法1: 将端点特征拼接\n",
    "    feature = node_features[u] + node_features[v]\n",
    "    X_L.append(feature)\n",
    "\n",
    "X_L = np.array(X_L)\n",
    "print(\"线图节点特征矩阵:\")\n",
    "print(X_L)\n"
   ],
   "metadata": {
    "collapsed": false,
    "ExecuteTime": {
     "end_time": "2025-01-24T08:56:25.578585400Z",
     "start_time": "2025-01-24T08:56:25.554579800Z"
    }
   },
   "id": "5fe51a4034a6bb16"
  },
  {
   "cell_type": "code",
   "execution_count": 3,
   "outputs": [],
   "source": [
    "import pandas as pd\n",
    "data = pd.read_csv('D:\\\\学习\\\\论文\\\\2024new-第二篇\\\\pmy\\\\dataset\\\\NF-BoT-IoT\\\\data\\\\NF-BoT-IoT.csv')"
   ],
   "metadata": {
    "collapsed": false,
    "ExecuteTime": {
     "end_time": "2025-01-24T15:45:13.181581800Z",
     "start_time": "2025-01-24T15:45:12.566670900Z"
    }
   },
   "id": "fcf9fcff2ff35568"
  },
  {
   "cell_type": "code",
   "execution_count": 8,
   "outputs": [
    {
     "data": {
      "text/plain": "         IPV4_SRC_ADDR  L4_SRC_PORT    IPV4_DST_ADDR  L4_DST_PORT  PROTOCOL  \\\n0        192.168.100.6        52670    192.168.100.1           53        17   \n1        192.168.100.6        49160  192.168.100.149         4444         6   \n2       192.168.100.46         3456    192.168.100.5           80        17   \n3        192.168.100.3           80   192.168.100.55         8080         6   \n4       192.168.100.46           80    192.168.100.5           80         6   \n...                ...          ...              ...          ...       ...   \n600095  192.168.100.46           80    192.168.100.5           80         6   \n600096   192.168.100.5            0    192.168.100.3            0         6   \n600097   192.168.100.7          365    192.168.100.3          565        17   \n600098   192.168.100.3        50850     13.54.166.67         8883         6   \n600099   192.168.100.6        49160  192.168.100.149         4444         6   \n\n        L7_PROTO   IN_BYTES  OUT_BYTES  IN_PKTS  OUT_PKTS  TCP_FLAGS  \\\n0          5.212         71        126        1         1          0   \n1          0.000  217753000     199100     4521      4049         24   \n2          0.000    8508021    8918372     9086      9086          0   \n3          7.000    8442138    9013406     9086      9086          0   \n4          7.000    8374706          0     9086         0          0   \n...          ...        ...        ...      ...       ...        ...   \n600095     7.000    2330065          0     2523         0          0   \n600096     0.000    1054423          0     1513         0          0   \n600097     0.000      62422          0     1357         0          0   \n600098   222.178      11300       1664       32        32         24   \n600099     0.000   40102320      37280      763       590         24   \n\n        FLOW_DURATION_MILLISECONDS  Label  Attack  \n0                          4294966      0  Benign  \n1                          4176249      1   Theft  \n2                          4175916      0  Benign  \n3                          4175916      0  Benign  \n4                          4175916      0  Benign  \n...                            ...    ...     ...  \n600095                     4263037      0  Benign  \n600096                     4263062      0  Benign  \n600097                     4263062      0  Benign  \n600098                     4264935      0  Benign  \n600099                     4270068      1   Theft  \n\n[600100 rows x 14 columns]",
      "text/html": "<div>\n<style scoped>\n    .dataframe tbody tr th:only-of-type {\n        vertical-align: middle;\n    }\n\n    .dataframe tbody tr th {\n        vertical-align: top;\n    }\n\n    .dataframe thead th {\n        text-align: right;\n    }\n</style>\n<table border=\"1\" class=\"dataframe\">\n  <thead>\n    <tr style=\"text-align: right;\">\n      <th></th>\n      <th>IPV4_SRC_ADDR</th>\n      <th>L4_SRC_PORT</th>\n      <th>IPV4_DST_ADDR</th>\n      <th>L4_DST_PORT</th>\n      <th>PROTOCOL</th>\n      <th>L7_PROTO</th>\n      <th>IN_BYTES</th>\n      <th>OUT_BYTES</th>\n      <th>IN_PKTS</th>\n      <th>OUT_PKTS</th>\n      <th>TCP_FLAGS</th>\n      <th>FLOW_DURATION_MILLISECONDS</th>\n      <th>Label</th>\n      <th>Attack</th>\n    </tr>\n  </thead>\n  <tbody>\n    <tr>\n      <th>0</th>\n      <td>192.168.100.6</td>\n      <td>52670</td>\n      <td>192.168.100.1</td>\n      <td>53</td>\n      <td>17</td>\n      <td>5.212</td>\n      <td>71</td>\n      <td>126</td>\n      <td>1</td>\n      <td>1</td>\n      <td>0</td>\n      <td>4294966</td>\n      <td>0</td>\n      <td>Benign</td>\n    </tr>\n    <tr>\n      <th>1</th>\n      <td>192.168.100.6</td>\n      <td>49160</td>\n      <td>192.168.100.149</td>\n      <td>4444</td>\n      <td>6</td>\n      <td>0.000</td>\n      <td>217753000</td>\n      <td>199100</td>\n      <td>4521</td>\n      <td>4049</td>\n      <td>24</td>\n      <td>4176249</td>\n      <td>1</td>\n      <td>Theft</td>\n    </tr>\n    <tr>\n      <th>2</th>\n      <td>192.168.100.46</td>\n      <td>3456</td>\n      <td>192.168.100.5</td>\n      <td>80</td>\n      <td>17</td>\n      <td>0.000</td>\n      <td>8508021</td>\n      <td>8918372</td>\n      <td>9086</td>\n      <td>9086</td>\n      <td>0</td>\n      <td>4175916</td>\n      <td>0</td>\n      <td>Benign</td>\n    </tr>\n    <tr>\n      <th>3</th>\n      <td>192.168.100.3</td>\n      <td>80</td>\n      <td>192.168.100.55</td>\n      <td>8080</td>\n      <td>6</td>\n      <td>7.000</td>\n      <td>8442138</td>\n      <td>9013406</td>\n      <td>9086</td>\n      <td>9086</td>\n      <td>0</td>\n      <td>4175916</td>\n      <td>0</td>\n      <td>Benign</td>\n    </tr>\n    <tr>\n      <th>4</th>\n      <td>192.168.100.46</td>\n      <td>80</td>\n      <td>192.168.100.5</td>\n      <td>80</td>\n      <td>6</td>\n      <td>7.000</td>\n      <td>8374706</td>\n      <td>0</td>\n      <td>9086</td>\n      <td>0</td>\n      <td>0</td>\n      <td>4175916</td>\n      <td>0</td>\n      <td>Benign</td>\n    </tr>\n    <tr>\n      <th>...</th>\n      <td>...</td>\n      <td>...</td>\n      <td>...</td>\n      <td>...</td>\n      <td>...</td>\n      <td>...</td>\n      <td>...</td>\n      <td>...</td>\n      <td>...</td>\n      <td>...</td>\n      <td>...</td>\n      <td>...</td>\n      <td>...</td>\n      <td>...</td>\n    </tr>\n    <tr>\n      <th>600095</th>\n      <td>192.168.100.46</td>\n      <td>80</td>\n      <td>192.168.100.5</td>\n      <td>80</td>\n      <td>6</td>\n      <td>7.000</td>\n      <td>2330065</td>\n      <td>0</td>\n      <td>2523</td>\n      <td>0</td>\n      <td>0</td>\n      <td>4263037</td>\n      <td>0</td>\n      <td>Benign</td>\n    </tr>\n    <tr>\n      <th>600096</th>\n      <td>192.168.100.5</td>\n      <td>0</td>\n      <td>192.168.100.3</td>\n      <td>0</td>\n      <td>6</td>\n      <td>0.000</td>\n      <td>1054423</td>\n      <td>0</td>\n      <td>1513</td>\n      <td>0</td>\n      <td>0</td>\n      <td>4263062</td>\n      <td>0</td>\n      <td>Benign</td>\n    </tr>\n    <tr>\n      <th>600097</th>\n      <td>192.168.100.7</td>\n      <td>365</td>\n      <td>192.168.100.3</td>\n      <td>565</td>\n      <td>17</td>\n      <td>0.000</td>\n      <td>62422</td>\n      <td>0</td>\n      <td>1357</td>\n      <td>0</td>\n      <td>0</td>\n      <td>4263062</td>\n      <td>0</td>\n      <td>Benign</td>\n    </tr>\n    <tr>\n      <th>600098</th>\n      <td>192.168.100.3</td>\n      <td>50850</td>\n      <td>13.54.166.67</td>\n      <td>8883</td>\n      <td>6</td>\n      <td>222.178</td>\n      <td>11300</td>\n      <td>1664</td>\n      <td>32</td>\n      <td>32</td>\n      <td>24</td>\n      <td>4264935</td>\n      <td>0</td>\n      <td>Benign</td>\n    </tr>\n    <tr>\n      <th>600099</th>\n      <td>192.168.100.6</td>\n      <td>49160</td>\n      <td>192.168.100.149</td>\n      <td>4444</td>\n      <td>6</td>\n      <td>0.000</td>\n      <td>40102320</td>\n      <td>37280</td>\n      <td>763</td>\n      <td>590</td>\n      <td>24</td>\n      <td>4270068</td>\n      <td>1</td>\n      <td>Theft</td>\n    </tr>\n  </tbody>\n</table>\n<p>600100 rows × 14 columns</p>\n</div>"
     },
     "execution_count": 8,
     "metadata": {},
     "output_type": "execute_result"
    }
   ],
   "source": [
    "label = data['Label']\n",
    "label.shape\n",
    "data"
   ],
   "metadata": {
    "collapsed": false,
    "ExecuteTime": {
     "end_time": "2025-01-24T18:36:08.677838200Z",
     "start_time": "2025-01-24T18:36:08.656657700Z"
    }
   },
   "id": "b85e4669cfe1dec3"
  },
  {
   "cell_type": "code",
   "execution_count": 9,
   "outputs": [],
   "source": [
    "from sklearn.preprocessing import StandardScaler\n",
    "# 数值标准化（零均值和单位方差）\n",
    "scaler = StandardScaler()\n",
    "data['PROTOCOL'] = scaler.fit_transform(data[['PROTOCOL']])"
   ],
   "metadata": {
    "collapsed": false,
    "ExecuteTime": {
     "end_time": "2025-01-24T18:36:25.038271Z",
     "start_time": "2025-01-24T18:36:25.006264Z"
    }
   },
   "id": "9c523057de278199"
  },
  {
   "cell_type": "code",
   "execution_count": 10,
   "outputs": [
    {
     "data": {
      "text/plain": "         IPV4_SRC_ADDR  L4_SRC_PORT    IPV4_DST_ADDR  L4_DST_PORT  PROTOCOL  \\\n0        192.168.100.6        52670    192.168.100.1           53  4.057229   \n1        192.168.100.6        49160  192.168.100.149         4444 -0.227830   \n2       192.168.100.46         3456    192.168.100.5           80  4.057229   \n3        192.168.100.3           80   192.168.100.55         8080 -0.227830   \n4       192.168.100.46           80    192.168.100.5           80 -0.227830   \n...                ...          ...              ...          ...       ...   \n600095  192.168.100.46           80    192.168.100.5           80 -0.227830   \n600096   192.168.100.5            0    192.168.100.3            0 -0.227830   \n600097   192.168.100.7          365    192.168.100.3          565  4.057229   \n600098   192.168.100.3        50850     13.54.166.67         8883 -0.227830   \n600099   192.168.100.6        49160  192.168.100.149         4444 -0.227830   \n\n        L7_PROTO   IN_BYTES  OUT_BYTES  IN_PKTS  OUT_PKTS  TCP_FLAGS  \\\n0          5.212         71        126        1         1          0   \n1          0.000  217753000     199100     4521      4049         24   \n2          0.000    8508021    8918372     9086      9086          0   \n3          7.000    8442138    9013406     9086      9086          0   \n4          7.000    8374706          0     9086         0          0   \n...          ...        ...        ...      ...       ...        ...   \n600095     7.000    2330065          0     2523         0          0   \n600096     0.000    1054423          0     1513         0          0   \n600097     0.000      62422          0     1357         0          0   \n600098   222.178      11300       1664       32        32         24   \n600099     0.000   40102320      37280      763       590         24   \n\n        FLOW_DURATION_MILLISECONDS  Label  Attack  \n0                          4294966      0  Benign  \n1                          4176249      1   Theft  \n2                          4175916      0  Benign  \n3                          4175916      0  Benign  \n4                          4175916      0  Benign  \n...                            ...    ...     ...  \n600095                     4263037      0  Benign  \n600096                     4263062      0  Benign  \n600097                     4263062      0  Benign  \n600098                     4264935      0  Benign  \n600099                     4270068      1   Theft  \n\n[600100 rows x 14 columns]",
      "text/html": "<div>\n<style scoped>\n    .dataframe tbody tr th:only-of-type {\n        vertical-align: middle;\n    }\n\n    .dataframe tbody tr th {\n        vertical-align: top;\n    }\n\n    .dataframe thead th {\n        text-align: right;\n    }\n</style>\n<table border=\"1\" class=\"dataframe\">\n  <thead>\n    <tr style=\"text-align: right;\">\n      <th></th>\n      <th>IPV4_SRC_ADDR</th>\n      <th>L4_SRC_PORT</th>\n      <th>IPV4_DST_ADDR</th>\n      <th>L4_DST_PORT</th>\n      <th>PROTOCOL</th>\n      <th>L7_PROTO</th>\n      <th>IN_BYTES</th>\n      <th>OUT_BYTES</th>\n      <th>IN_PKTS</th>\n      <th>OUT_PKTS</th>\n      <th>TCP_FLAGS</th>\n      <th>FLOW_DURATION_MILLISECONDS</th>\n      <th>Label</th>\n      <th>Attack</th>\n    </tr>\n  </thead>\n  <tbody>\n    <tr>\n      <th>0</th>\n      <td>192.168.100.6</td>\n      <td>52670</td>\n      <td>192.168.100.1</td>\n      <td>53</td>\n      <td>4.057229</td>\n      <td>5.212</td>\n      <td>71</td>\n      <td>126</td>\n      <td>1</td>\n      <td>1</td>\n      <td>0</td>\n      <td>4294966</td>\n      <td>0</td>\n      <td>Benign</td>\n    </tr>\n    <tr>\n      <th>1</th>\n      <td>192.168.100.6</td>\n      <td>49160</td>\n      <td>192.168.100.149</td>\n      <td>4444</td>\n      <td>-0.227830</td>\n      <td>0.000</td>\n      <td>217753000</td>\n      <td>199100</td>\n      <td>4521</td>\n      <td>4049</td>\n      <td>24</td>\n      <td>4176249</td>\n      <td>1</td>\n      <td>Theft</td>\n    </tr>\n    <tr>\n      <th>2</th>\n      <td>192.168.100.46</td>\n      <td>3456</td>\n      <td>192.168.100.5</td>\n      <td>80</td>\n      <td>4.057229</td>\n      <td>0.000</td>\n      <td>8508021</td>\n      <td>8918372</td>\n      <td>9086</td>\n      <td>9086</td>\n      <td>0</td>\n      <td>4175916</td>\n      <td>0</td>\n      <td>Benign</td>\n    </tr>\n    <tr>\n      <th>3</th>\n      <td>192.168.100.3</td>\n      <td>80</td>\n      <td>192.168.100.55</td>\n      <td>8080</td>\n      <td>-0.227830</td>\n      <td>7.000</td>\n      <td>8442138</td>\n      <td>9013406</td>\n      <td>9086</td>\n      <td>9086</td>\n      <td>0</td>\n      <td>4175916</td>\n      <td>0</td>\n      <td>Benign</td>\n    </tr>\n    <tr>\n      <th>4</th>\n      <td>192.168.100.46</td>\n      <td>80</td>\n      <td>192.168.100.5</td>\n      <td>80</td>\n      <td>-0.227830</td>\n      <td>7.000</td>\n      <td>8374706</td>\n      <td>0</td>\n      <td>9086</td>\n      <td>0</td>\n      <td>0</td>\n      <td>4175916</td>\n      <td>0</td>\n      <td>Benign</td>\n    </tr>\n    <tr>\n      <th>...</th>\n      <td>...</td>\n      <td>...</td>\n      <td>...</td>\n      <td>...</td>\n      <td>...</td>\n      <td>...</td>\n      <td>...</td>\n      <td>...</td>\n      <td>...</td>\n      <td>...</td>\n      <td>...</td>\n      <td>...</td>\n      <td>...</td>\n      <td>...</td>\n    </tr>\n    <tr>\n      <th>600095</th>\n      <td>192.168.100.46</td>\n      <td>80</td>\n      <td>192.168.100.5</td>\n      <td>80</td>\n      <td>-0.227830</td>\n      <td>7.000</td>\n      <td>2330065</td>\n      <td>0</td>\n      <td>2523</td>\n      <td>0</td>\n      <td>0</td>\n      <td>4263037</td>\n      <td>0</td>\n      <td>Benign</td>\n    </tr>\n    <tr>\n      <th>600096</th>\n      <td>192.168.100.5</td>\n      <td>0</td>\n      <td>192.168.100.3</td>\n      <td>0</td>\n      <td>-0.227830</td>\n      <td>0.000</td>\n      <td>1054423</td>\n      <td>0</td>\n      <td>1513</td>\n      <td>0</td>\n      <td>0</td>\n      <td>4263062</td>\n      <td>0</td>\n      <td>Benign</td>\n    </tr>\n    <tr>\n      <th>600097</th>\n      <td>192.168.100.7</td>\n      <td>365</td>\n      <td>192.168.100.3</td>\n      <td>565</td>\n      <td>4.057229</td>\n      <td>0.000</td>\n      <td>62422</td>\n      <td>0</td>\n      <td>1357</td>\n      <td>0</td>\n      <td>0</td>\n      <td>4263062</td>\n      <td>0</td>\n      <td>Benign</td>\n    </tr>\n    <tr>\n      <th>600098</th>\n      <td>192.168.100.3</td>\n      <td>50850</td>\n      <td>13.54.166.67</td>\n      <td>8883</td>\n      <td>-0.227830</td>\n      <td>222.178</td>\n      <td>11300</td>\n      <td>1664</td>\n      <td>32</td>\n      <td>32</td>\n      <td>24</td>\n      <td>4264935</td>\n      <td>0</td>\n      <td>Benign</td>\n    </tr>\n    <tr>\n      <th>600099</th>\n      <td>192.168.100.6</td>\n      <td>49160</td>\n      <td>192.168.100.149</td>\n      <td>4444</td>\n      <td>-0.227830</td>\n      <td>0.000</td>\n      <td>40102320</td>\n      <td>37280</td>\n      <td>763</td>\n      <td>590</td>\n      <td>24</td>\n      <td>4270068</td>\n      <td>1</td>\n      <td>Theft</td>\n    </tr>\n  </tbody>\n</table>\n<p>600100 rows × 14 columns</p>\n</div>"
     },
     "execution_count": 10,
     "metadata": {},
     "output_type": "execute_result"
    }
   ],
   "source": [
    "data"
   ],
   "metadata": {
    "collapsed": false,
    "ExecuteTime": {
     "end_time": "2025-01-24T18:36:30.272984600Z",
     "start_time": "2025-01-24T18:36:30.239978300Z"
    }
   },
   "id": "b6bf833d7ccc3c8e"
  },
  {
   "cell_type": "code",
   "execution_count": null,
   "outputs": [],
   "source": [],
   "metadata": {
    "collapsed": false
   },
   "id": "f13310a869cd67e4"
  }
 ],
 "metadata": {
  "kernelspec": {
   "display_name": "Python 3",
   "language": "python",
   "name": "python3"
  },
  "language_info": {
   "codemirror_mode": {
    "name": "ipython",
    "version": 2
   },
   "file_extension": ".py",
   "mimetype": "text/x-python",
   "name": "python",
   "nbconvert_exporter": "python",
   "pygments_lexer": "ipython2",
   "version": "2.7.6"
  }
 },
 "nbformat": 4,
 "nbformat_minor": 5
}
